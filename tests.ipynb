{
 "cells": [
  {
   "cell_type": "code",
   "execution_count": null,
   "outputs": [],
   "source": [
    "!pip install beautifulsoup4\n",
    "!pip install requests\n",
    "!pip install spacy\n",
    "!pip install trafilatura\n"
   ],
   "metadata": {
    "collapsed": false
   }
  },
  {
   "cell_type": "code",
   "execution_count": null,
   "outputs": [],
   "source": [
    "\n",
    "\n",
    "b = b\"hello world\" * 900000000\n",
    "print(f'len {len(b)}')\n",
    "print(binascii.crc32(b))\n",
    "# Or, in two pieces:\n",
    "crc = binascii.crc32(b\"hello\")\n",
    "crc = binascii.crc32(b\" world\", crc)\n",
    "print('crc32 = {:#010x}'.format(crc))"
   ],
   "metadata": {
    "collapsed": false
   }
  },
  {
   "cell_type": "code",
   "execution_count": null,
   "outputs": [],
   "source": [
    "from bs4 import BeautifulSoup\n",
    "import json\n",
    "import os\n",
    "import numpy as np\n",
    "import requests\n",
    "import re\n",
    "import urllib\n",
    "from requests.models import MissingSchema\n",
    "import spacy\n",
    "import trafilatura\n",
    "import time\n",
    "import threading\n",
    "import warnings\n",
    "import binascii\n",
    "\n",
    "warnings.filterwarnings(\"ignore\", category=DeprecationWarning)  #%%\n"
   ],
   "metadata": {
    "collapsed": false
   }
  },
  {
   "cell_type": "code",
   "execution_count": null,
   "outputs": [],
   "source": [
    "url = 'http://fsb.ru/fsb/leadership.htm'\n",
    "crc = binascii.crc32(bytes(url.encode('utf-8')))\n",
    "print(f'crc {crc:x}')\n",
    "data = requests.get(url)\n",
    "print(data.content.decode('utf-8', errors='ignore'))"
   ],
   "metadata": {
    "collapsed": false
   }
  },
  {
   "cell_type": "code",
   "execution_count": null,
   "outputs": [],
   "source": [
    "urls = []\n",
    "done = []\n",
    "done_urls = []\n",
    "\n",
    "\n",
    "def beautifulsoup_extract_text_fallback(response_content):\n",
    "    '''\n",
    "    This is a fallback function, so that we can always return a value for text content.\n",
    "    Even for when both Trafilatura and BeautifulSoup are unable to extract the text from a\n",
    "    single URL.\n",
    "    '''\n",
    "\n",
    "    # Create the beautifulsoup object:\n",
    "    soup = BeautifulSoup(response_content, 'html.parser')\n",
    "\n",
    "    # Finding the text:\n",
    "    text = soup.find_all(text=True)\n",
    "\n",
    "    # Remove unwanted tag elements:\n",
    "    cleaned_text = ''\n",
    "    blacklist = [\n",
    "        '[document]',\n",
    "        'noscript',\n",
    "        'header',\n",
    "        'html',\n",
    "        'meta',\n",
    "        'head',\n",
    "        'input',\n",
    "        'script',\n",
    "        'style', ]\n",
    "\n",
    "    # Then we will loop over every item in the extract text and make sure that the beautifulsoup4 tag\n",
    "    # is NOT in the blacklist\n",
    "    for item in text:\n",
    "        if item.parent.name not in blacklist:\n",
    "            cleaned_text += '{} '.format(item)\n",
    "\n",
    "    # Remove any tab separation and strip the text:\n",
    "    cleaned_text = cleaned_text.replace('\\t', '')\n",
    "    return cleaned_text.strip()\n",
    "\n",
    "\n",
    "def parse_page(link):\n",
    "    #print(f'parse_page: {link}')\n",
    "    #downloaded_url = trafilatura.fetch_url(link, no_ssl=True)\n",
    "    # try:\n",
    "    #     a = trafilatura.extract(downloaded_url, output_format='json', with_metadata=False, include_comments=False,\n",
    "    #                             date_extraction_params={'extensive_search': True, 'original_date': True})\n",
    "    # except AttributeError:\n",
    "    #     a = trafilatura.extract(downloaded_url, output_format='json', with_metadata=False,\n",
    "    #                             date_extraction_params={'extensive_search': True, 'original_date': True})\n",
    "    # if a:\n",
    "    #     json_output = json.loads(a)\n",
    "    #     process_page(downloaded_url)\n",
    "    #     return downloaded_url, json_output['text']\n",
    "    # else:\n",
    "    try:\n",
    "        headers = {\n",
    "            'User-Agent': 'Mozilla/5.0 (Windows NT 10.0; Win64; x64) AppleWebKit/537.36 (KHTML, like Gecko) Chrome/117.0.0.0 Safari/537.36 Edg/117.0.2045.47'\n",
    "        }\n",
    "        print(f'downloading {link} ... ', end='')\n",
    "        r = requests.get(link, headers=headers)\n",
    "        print(f'done')\n",
    "\n",
    "        # We will only extract the text from successful requests:\n",
    "        if r.status_code == 200:\n",
    "\n",
    "            print(f'analyzing page ... ', end='')\n",
    "            print(f'links ', end='')\n",
    "            process_page(r)\n",
    "            print(f'decode ', end='')\n",
    "            decoded = r.content.decode('utf-8', errors='ignore')\n",
    "            print(f'strip/split ', end='')\n",
    "            pp = link.strip('/').split('/')\n",
    "            print(f'cksum ', end='')\n",
    "            c = binascii.crc32(r.content)\n",
    "            #c = calculator.checksum(r.content)\n",
    "\n",
    "            name = pp[-1]\n",
    "            fname = f'data/{c:08x}-{name}'\n",
    "            with open(fname, \"wb\") as file:\n",
    "                file.write(r.content)\n",
    "                print(f'written to {fname} OK')\n",
    "\n",
    "            print(f'text ', end='')\n",
    "            content = beautifulsoup_extract_text_fallback(r.content)\n",
    "\n",
    "            print(f'done ')\n",
    "            return decoded, content\n",
    "        else:\n",
    "            # This line will handle for any failures in both the Trafilature and BeautifulSoup4 functions:\n",
    "            print(f'requests error: {r.status_code}/{r.reason}')\n",
    "\n",
    "            return \"\", np.nan\n",
    "    # Handling for any URLs that don't have the correct protocol\n",
    "    except Exception as e:\n",
    "        print(f'excepton: {e}')\n",
    "        return \"\", np.nan\n",
    "\n",
    "\n",
    "def process_page(response):\n",
    "    all_relative = re.findall('href=(\\'|\")(.*?)(\\'|\")', response.content.decode('utf-8', errors='ignore'))\n",
    "    for link in all_relative:\n",
    "        if 'http' in link[1] or 'javascript' in link[1]:\n",
    "            continue\n",
    "        push_url('http://fsb.ru/' + link[1])\n",
    "    all_abs = re.findall('href=(\\'|\")(http.*?)(\\'|\")', response.content.decode('utf-8', errors='ignore'))\n",
    "    for link in all_abs:\n",
    "        if not 'http' in link[1] or 'javascript' in link[1]:\n",
    "            continue\n",
    "        push_url(link[1])\n",
    "\n",
    "\n",
    "def push_url(url):\n",
    "    global urls, done_urls\n",
    "    if url not in done_urls:\n",
    "        print(f'[push_url/{threading.get_ident()}] get {url} ... [done: {len(done)}]')\n",
    "\n",
    "\n",
    "        try:\n",
    "            page, text = parse_page(url)\n",
    "        except Exception as e:\n",
    "            print(f'exception: {e}')\n",
    "        else:\n",
    "            print(f' {len(page)} ')\n",
    "            time.sleep(1)\n",
    "\n",
    "            done.append({'url': url, 'page': page, 'text': text})\n",
    "\n",
    "        done_urls.append(url)\n",
    "    else:\n",
    "        print(f'already visited {url}')\n",
    "\n",
    "\n",
    "single_url = 'http://www.fsb.ru/'\n",
    "page, text = parse_page(single_url)\n",
    "\n",
    "print(urls)\n",
    "\n",
    "print(f'done {count(urls)}')"
   ],
   "metadata": {
    "collapsed": false,
    "is_executing": true
   }
  },
  {
   "cell_type": "markdown",
   "source": [],
   "metadata": {
    "collapsed": false
   }
  },
  {
   "cell_type": "markdown",
   "source": [],
   "metadata": {
    "collapsed": false
   }
  },
  {
   "cell_type": "markdown",
   "source": [],
   "metadata": {
    "collapsed": false
   }
  },
  {
   "cell_type": "markdown",
   "source": [],
   "metadata": {
    "collapsed": false
   }
  },
  {
   "cell_type": "markdown",
   "source": [],
   "metadata": {
    "collapsed": false
   }
  },
  {
   "cell_type": "markdown",
   "source": [],
   "metadata": {
    "collapsed": false
   }
  }
 ],
 "metadata": {
  "kernelspec": {
   "display_name": "Python 3",
   "language": "python",
   "name": "python3"
  },
  "language_info": {
   "codemirror_mode": {
    "name": "ipython",
    "version": 2
   },
   "file_extension": ".py",
   "mimetype": "text/x-python",
   "name": "python",
   "nbconvert_exporter": "python",
   "pygments_lexer": "ipython2",
   "version": "2.7.6"
  }
 },
 "nbformat": 4,
 "nbformat_minor": 0
}
